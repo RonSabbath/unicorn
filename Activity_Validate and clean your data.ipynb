{
 "cells": [
  {
   "cell_type": "markdown",
   "metadata": {
    "id": "1WD1hC5MTRMS"
   },
   "source": [
    "# Activity: Validate and clean your data"
   ]
  },
  {
   "cell_type": "markdown",
   "metadata": {
    "id": "ee31943b-274e-4c28-bce6-155cb6f4c334"
   },
   "source": [
    "## Introduction\n",
    "\n",
    "In this activity, you will use input validation and label encoding to prepare a dataset for analysis. These are fundamental techniques used in all types of data analysis, from simple linear regression to complex neural networks. \n",
    "\n",
    "In this activity, you are a data professional an investment firm that is attempting to invest in private companies with a valuation of at least $1 billion. These are often known as \"unicorns.\" Your client wants to develop a better understanding of unicorns, with the hope they can be early investors in future highly successful companies. They are particularly interested in the investment strategies of the three top unicorn investors: Sequoia Capital, Tiger Global Management, and Accel. "
   ]
  },
  {
   "cell_type": "markdown",
   "metadata": {
    "id": "4bb9630e-b940-4835-a389-d39def1fa848"
   },
   "source": [
    "## Step 1: Imports"
   ]
  },
  {
   "cell_type": "markdown",
   "metadata": {
    "id": "bc180686-4ae2-47ea-a292-3588ac60a820"
   },
   "source": [
    "Import relevant Python libraries and packages: `numpy`, `pandas`, `seaborn`, and `pyplot` from `matplotlib`."
   ]
  },
  {
   "cell_type": "code",
   "execution_count": 34,
   "metadata": {
    "id": "8e7f1f2c-bbcc-4f3c-b927-b090ee8334c4"
   },
   "outputs": [],
   "source": [
    "# Import libraries and packages.\n",
    "\n",
    "### YOUR CODE HERE ### \n",
    "import numpy as np\n",
    "import pandas as pd\n",
    "import seaborn as sns\n",
    "import matplotlib.pyplot as plt"
   ]
  },
  {
   "cell_type": "markdown",
   "metadata": {
    "id": "7d29c6bd-f194-46bb-b794-56dc20130473"
   },
   "source": [
    "### Load the dataset\n",
    "\n",
    "The data contains details about unicorn companies, such as when they were founded, when they achieved unicorn status, and their current valuation. The dataset `Modified_Unicorn_Companies.csv` is loaded as `companies`, now display the first five rows. The variables in the dataset have been adjusted to suit the objectives of this lab, so they may be different from similar data used in prior labs. As shown in this cell, the dataset has been automatically loaded in for you. You do not need to download the .csv file, or provide more code, in order to access the dataset and proceed with this lab. Please continue with this activity by completing the following instructions."
   ]
  },
  {
   "cell_type": "code",
   "execution_count": 2,
   "metadata": {
    "id": "3bd40d44-080f-4e49-b0c2-160dedc3c4df"
   },
   "outputs": [
    {
     "data": {
      "text/html": [
       "<div>\n",
       "<style scoped>\n",
       "    .dataframe tbody tr th:only-of-type {\n",
       "        vertical-align: middle;\n",
       "    }\n",
       "\n",
       "    .dataframe tbody tr th {\n",
       "        vertical-align: top;\n",
       "    }\n",
       "\n",
       "    .dataframe thead th {\n",
       "        text-align: right;\n",
       "    }\n",
       "</style>\n",
       "<table border=\"1\" class=\"dataframe\">\n",
       "  <thead>\n",
       "    <tr style=\"text-align: right;\">\n",
       "      <th></th>\n",
       "      <th>Company</th>\n",
       "      <th>Valuation</th>\n",
       "      <th>Date Joined</th>\n",
       "      <th>Industry</th>\n",
       "      <th>City</th>\n",
       "      <th>Country/Region</th>\n",
       "      <th>Continent</th>\n",
       "      <th>Year Founded</th>\n",
       "      <th>Funding</th>\n",
       "      <th>Select Investors</th>\n",
       "    </tr>\n",
       "  </thead>\n",
       "  <tbody>\n",
       "    <tr>\n",
       "      <th>0</th>\n",
       "      <td>Bytedance</td>\n",
       "      <td>180</td>\n",
       "      <td>2017-04-07</td>\n",
       "      <td>Artificial intelligence</td>\n",
       "      <td>Beijing</td>\n",
       "      <td>China</td>\n",
       "      <td>Asia</td>\n",
       "      <td>2012</td>\n",
       "      <td>$8B</td>\n",
       "      <td>Sequoia Capital China, SIG Asia Investments, S...</td>\n",
       "    </tr>\n",
       "    <tr>\n",
       "      <th>1</th>\n",
       "      <td>SpaceX</td>\n",
       "      <td>100</td>\n",
       "      <td>2012-12-01</td>\n",
       "      <td>Other</td>\n",
       "      <td>Hawthorne</td>\n",
       "      <td>United States</td>\n",
       "      <td>North America</td>\n",
       "      <td>2002</td>\n",
       "      <td>$7B</td>\n",
       "      <td>Founders Fund, Draper Fisher Jurvetson, Rothen...</td>\n",
       "    </tr>\n",
       "    <tr>\n",
       "      <th>2</th>\n",
       "      <td>SHEIN</td>\n",
       "      <td>100</td>\n",
       "      <td>2018-07-03</td>\n",
       "      <td>E-commerce &amp; direct-to-consumer</td>\n",
       "      <td>Shenzhen</td>\n",
       "      <td>China</td>\n",
       "      <td>Asia</td>\n",
       "      <td>2008</td>\n",
       "      <td>$2B</td>\n",
       "      <td>Tiger Global Management, Sequoia Capital China...</td>\n",
       "    </tr>\n",
       "    <tr>\n",
       "      <th>3</th>\n",
       "      <td>Stripe</td>\n",
       "      <td>95</td>\n",
       "      <td>2014-01-23</td>\n",
       "      <td>FinTech</td>\n",
       "      <td>San Francisco</td>\n",
       "      <td>United States</td>\n",
       "      <td>North America</td>\n",
       "      <td>2010</td>\n",
       "      <td>$2B</td>\n",
       "      <td>Khosla Ventures, LowercaseCapital, capitalG</td>\n",
       "    </tr>\n",
       "    <tr>\n",
       "      <th>4</th>\n",
       "      <td>Klarna</td>\n",
       "      <td>46</td>\n",
       "      <td>2011-12-12</td>\n",
       "      <td>Fintech</td>\n",
       "      <td>Stockholm</td>\n",
       "      <td>Sweden</td>\n",
       "      <td>Europe</td>\n",
       "      <td>2005</td>\n",
       "      <td>$4B</td>\n",
       "      <td>Institutional Venture Partners, Sequoia Capita...</td>\n",
       "    </tr>\n",
       "  </tbody>\n",
       "</table>\n",
       "</div>"
      ],
      "text/plain": [
       "     Company  Valuation Date Joined                         Industry  \\\n",
       "0  Bytedance        180  2017-04-07          Artificial intelligence   \n",
       "1     SpaceX        100  2012-12-01                            Other   \n",
       "2      SHEIN        100  2018-07-03  E-commerce & direct-to-consumer   \n",
       "3     Stripe         95  2014-01-23                          FinTech   \n",
       "4     Klarna         46  2011-12-12                          Fintech   \n",
       "\n",
       "            City Country/Region      Continent  Year Founded Funding  \\\n",
       "0        Beijing          China           Asia          2012     $8B   \n",
       "1      Hawthorne  United States  North America          2002     $7B   \n",
       "2       Shenzhen          China           Asia          2008     $2B   \n",
       "3  San Francisco  United States  North America          2010     $2B   \n",
       "4      Stockholm         Sweden         Europe          2005     $4B   \n",
       "\n",
       "                                    Select Investors  \n",
       "0  Sequoia Capital China, SIG Asia Investments, S...  \n",
       "1  Founders Fund, Draper Fisher Jurvetson, Rothen...  \n",
       "2  Tiger Global Management, Sequoia Capital China...  \n",
       "3        Khosla Ventures, LowercaseCapital, capitalG  \n",
       "4  Institutional Venture Partners, Sequoia Capita...  "
      ]
     },
     "execution_count": 2,
     "metadata": {},
     "output_type": "execute_result"
    }
   ],
   "source": [
    "# RUN THIS CELL TO IMPORT YOUR DATA. \n",
    "\n",
    "### YOUR CODE HERE ### \n",
    "companies = pd.read_csv('Modified_Unicorn_Companies.csv')\n",
    "\n",
    "# Display the first five rows.\n",
    "\n",
    "### YOUR CODE HERE ### \n",
    "companies.head()"
   ]
  },
  {
   "cell_type": "markdown",
   "metadata": {
    "id": "95bf39c9-d05c-4324-a40b-bc692607b61b"
   },
   "source": [
    "## Step 2: Data cleaning\n"
   ]
  },
  {
   "cell_type": "markdown",
   "metadata": {
    "id": "ad17d09c-c829-4e88-9089-83060d1adf91"
   },
   "source": [
    "Begin by displaying the data types of the columns in `companies`."
   ]
  },
  {
   "cell_type": "code",
   "execution_count": 3,
   "metadata": {
    "id": "5340b9fd-a9e1-4943-b546-eece0049dc3b"
   },
   "outputs": [
    {
     "data": {
      "text/plain": [
       "Company             object\n",
       "Valuation            int64\n",
       "Date Joined         object\n",
       "Industry            object\n",
       "City                object\n",
       "Country/Region      object\n",
       "Continent           object\n",
       "Year Founded         int64\n",
       "Funding             object\n",
       "Select Investors    object\n",
       "dtype: object"
      ]
     },
     "execution_count": 3,
     "metadata": {},
     "output_type": "execute_result"
    }
   ],
   "source": [
    "# Display the data types of the columns.\n",
    "\n",
    "### YOUR CODE HERE ###\n",
    "companies.dtypes"
   ]
  },
  {
   "cell_type": "markdown",
   "metadata": {
    "id": "f155353c-d39d-436e-b0de-3cb0777c831e"
   },
   "source": [
    "<details>\n",
    "  <summary><h4><strong>Hint 1</strong></h4></summary>\n",
    "\n",
    "Review what you have learned about exploratory data analysis in Python.\n",
    "\n",
    "</details>"
   ]
  },
  {
   "cell_type": "markdown",
   "metadata": {
    "id": "a0c1a503-ccec-44a9-baaf-a89eabf363cf"
   },
   "source": [
    "<details>\n",
    "  <summary><h4><strong>Hint 2</strong></h4></summary>\n",
    "\n",
    "There is a `pandas` DataFrame property that displays the data types of the columns in the specified DataFrame.\n",
    " \n",
    "\n",
    "</details>"
   ]
  },
  {
   "cell_type": "markdown",
   "metadata": {
    "id": "0566888c-aa4d-4dec-966b-d99959fc05f0"
   },
   "source": [
    "<details>\n",
    "  <summary><h4><strong>Hint 3</strong></h4></summary>\n",
    "\n",
    "  The `pandas` DataFrame `dtypes` property will be helpful.\n",
    "\n",
    "</details>"
   ]
  },
  {
   "cell_type": "markdown",
   "metadata": {
    "id": "0dbc048f-cd6d-4e52-93a9-21ec30ce055b"
   },
   "source": [
    "### Correct the data types"
   ]
  },
  {
   "cell_type": "markdown",
   "metadata": {
    "id": "ad280560-d6db-4fcd-ba70-2c16389e12fd"
   },
   "source": [
    "If any of the data types in `companies` are incorrect, fix them and save them back to `companies`."
   ]
  },
  {
   "cell_type": "code",
   "execution_count": 4,
   "metadata": {
    "id": "1793ad8d-659a-4fc9-aa8a-570f063ca0d3"
   },
   "outputs": [],
   "source": [
    "# Apply necessary datatype conversions.\n",
    "\n",
    "### YOUR CODE HERE ###\n",
    "companies['Date Joined'] = pd.to_datetime(companies['Date Joined'])\n",
    "companies['Year Founded'] = pd.to_datetime(companies['Year Founded'], format='%Y')\n",
    "\n"
   ]
  },
  {
   "cell_type": "markdown",
   "metadata": {
    "id": "1ea7364c-a5be-4c3a-ae8d-24a0ac497973"
   },
   "source": [
    "### Create a new column"
   ]
  },
  {
   "cell_type": "markdown",
   "metadata": {
    "id": "6ed05e76-0a66-4ea3-9796-39afb48eeb93"
   },
   "source": [
    "Add a column called `Years To Unicorn`, which is the number of years between when the company was founded and when it became a unicorn."
   ]
  },
  {
   "cell_type": "code",
   "execution_count": 5,
   "metadata": {
    "id": "3d495d71-39af-4d3f-80fd-0d0a22b01532"
   },
   "outputs": [],
   "source": [
    "# Create the column Years To Unicorn.\n",
    "\n",
    "### YOUR CODE HERE ###\n",
    "companies['Years To Unicorn'] = (companies['Date Joined'] - companies['Year Founded']).dt.days / 365\n"
   ]
  },
  {
   "cell_type": "markdown",
   "metadata": {
    "id": "4a576b71-1047-48ab-abe9-c5e8d1b67d26"
   },
   "source": [
    "<details>\n",
    "  <summary><h4><strong>Hint 1</strong></h4></summary>\n",
    "\n",
    "Extract just the year from the `Date Joined` column. \n",
    "\n",
    "</details>"
   ]
  },
  {
   "cell_type": "markdown",
   "metadata": {
    "id": "21584921-1d6a-42ab-8f04-9793c7d5cee2"
   },
   "source": [
    "<details>\n",
    "  <summary><h4><strong>Hint 2</strong></h4></summary>\n",
    "\n",
    "  Use `dt.year` to access the year of a datetime object.\n",
    "\n",
    "</details>"
   ]
  },
  {
   "cell_type": "markdown",
   "metadata": {
    "id": "aea4d087-51f5-4b0f-b4c4-18b1acfe0c0d"
   },
   "source": [
    "<details>\n",
    "  <summary><h4><strong>Hint 3</strong></h4></summary>\n",
    "\n",
    "Subtract the `Year Founded` from the `Date Joined`, and save it to a new column called `Years To Unicorn`.\n",
    "  \n",
    "Ensure you're properly extracting just the year (as an integer) from `Date Joined`.\n",
    "\n",
    "</details>"
   ]
  },
  {
   "cell_type": "markdown",
   "metadata": {
    "id": "fb06c26b-70b7-4b05-9347-6675b8b329d3"
   },
   "source": [
    "**QUESTION: Why might your client be interested in how quickly a company achieved unicorn status?**"
   ]
  },
  {
   "cell_type": "markdown",
   "metadata": {
    "id": "ac6a0172-611e-4a1c-9afd-a39b489cbdee"
   },
   "source": [
    "Understanding the speed at which a company achieved unicorn status can provide valuable insights for the client. The client may be interested in this information for several reasons:\n",
    "\n",
    "1. Investment Strategy: The time it takes for a company to become a unicorn can reflect its growth trajectory and potential for future success. Companies that achieve unicorn status quickly may be seen as having high growth potential and may be attractive investment opportunities for the client.\n",
    "\n",
    "2. Market Dynamics: Examining the time it takes for companies to become unicorns can provide insights into market trends and dynamics. Rapidly emerging unicorns may indicate industries or sectors with significant growth potential, allowing the client to focus their investment strategies accordingly.\n",
    "\n",
    "3. Benchmarking: Comparing the speed of achieving unicorn status across different companies and industries can help the client benchmark their investment performance. It allows them to assess the effectiveness of their investment strategies and identify areas for improvement."
   ]
  },
  {
   "cell_type": "markdown",
   "metadata": {
    "id": "9fc9ddf1-ece0-40fb-9281-0808c193f5da",
    "tags": []
   },
   "source": [
    "### Input validation\n",
    "\n",
    "The data has some issues with bad data, duplicate rows, and inconsistent `Industry` labels.\n",
    "\n",
    "Identify and correct each of these issues."
   ]
  },
  {
   "cell_type": "markdown",
   "metadata": {
    "id": "db0651e7-36ef-4c10-a3ba-97373167da64",
    "tags": []
   },
   "source": [
    "Analyze the `Years To Unicorn` column and fix any issues with the data. Use your best judgement on the best approach to correct errors."
   ]
  },
  {
   "cell_type": "code",
   "execution_count": 11,
   "metadata": {
    "id": "8b1b2ad0-a668-4290-9404-5a2541955c0d"
   },
   "outputs": [
    {
     "data": {
      "text/html": [
       "<div>\n",
       "<style scoped>\n",
       "    .dataframe tbody tr th:only-of-type {\n",
       "        vertical-align: middle;\n",
       "    }\n",
       "\n",
       "    .dataframe tbody tr th {\n",
       "        vertical-align: top;\n",
       "    }\n",
       "\n",
       "    .dataframe thead th {\n",
       "        text-align: right;\n",
       "    }\n",
       "</style>\n",
       "<table border=\"1\" class=\"dataframe\">\n",
       "  <thead>\n",
       "    <tr style=\"text-align: right;\">\n",
       "      <th></th>\n",
       "      <th>Company</th>\n",
       "      <th>Valuation</th>\n",
       "      <th>Date Joined</th>\n",
       "      <th>Industry</th>\n",
       "      <th>City</th>\n",
       "      <th>Country/Region</th>\n",
       "      <th>Continent</th>\n",
       "      <th>Year Founded</th>\n",
       "      <th>Funding</th>\n",
       "      <th>Select Investors</th>\n",
       "      <th>Years To Unicorn</th>\n",
       "    </tr>\n",
       "  </thead>\n",
       "  <tbody>\n",
       "    <tr>\n",
       "      <th>0</th>\n",
       "      <td>Bytedance</td>\n",
       "      <td>180</td>\n",
       "      <td>2017-04-07</td>\n",
       "      <td>Artificial intelligence</td>\n",
       "      <td>Beijing</td>\n",
       "      <td>China</td>\n",
       "      <td>Asia</td>\n",
       "      <td>2012-01-01</td>\n",
       "      <td>$8B</td>\n",
       "      <td>Sequoia Capital China, SIG Asia Investments, S...</td>\n",
       "      <td>5.268493</td>\n",
       "    </tr>\n",
       "    <tr>\n",
       "      <th>3</th>\n",
       "      <td>Stripe</td>\n",
       "      <td>95</td>\n",
       "      <td>2014-01-23</td>\n",
       "      <td>FinTech</td>\n",
       "      <td>San Francisco</td>\n",
       "      <td>United States</td>\n",
       "      <td>North America</td>\n",
       "      <td>2010-01-01</td>\n",
       "      <td>$2B</td>\n",
       "      <td>Khosla Ventures, LowercaseCapital, capitalG</td>\n",
       "      <td>4.063014</td>\n",
       "    </tr>\n",
       "    <tr>\n",
       "      <th>5</th>\n",
       "      <td>Canva</td>\n",
       "      <td>40</td>\n",
       "      <td>2018-01-08</td>\n",
       "      <td>Internet software &amp; services</td>\n",
       "      <td>Surry Hills</td>\n",
       "      <td>Australia</td>\n",
       "      <td>Oceania</td>\n",
       "      <td>2012-01-01</td>\n",
       "      <td>$572M</td>\n",
       "      <td>Sequoia Capital China, Blackbird Ventures, Mat...</td>\n",
       "      <td>6.024658</td>\n",
       "    </tr>\n",
       "    <tr>\n",
       "      <th>7</th>\n",
       "      <td>Instacart</td>\n",
       "      <td>39</td>\n",
       "      <td>2014-12-30</td>\n",
       "      <td>Supply chain, logistics, &amp; delivery</td>\n",
       "      <td>San Francisco</td>\n",
       "      <td>United States</td>\n",
       "      <td>North America</td>\n",
       "      <td>2012-01-01</td>\n",
       "      <td>$3B</td>\n",
       "      <td>Khosla Ventures, Kleiner Perkins Caufield &amp; By...</td>\n",
       "      <td>2.997260</td>\n",
       "    </tr>\n",
       "    <tr>\n",
       "      <th>8</th>\n",
       "      <td>JUUL Labs</td>\n",
       "      <td>38</td>\n",
       "      <td>2017-12-20</td>\n",
       "      <td>Consumer &amp; retail</td>\n",
       "      <td>San Francisco</td>\n",
       "      <td>United States</td>\n",
       "      <td>North America</td>\n",
       "      <td>2015-01-01</td>\n",
       "      <td>$14B</td>\n",
       "      <td>Tiger Global Management</td>\n",
       "      <td>2.969863</td>\n",
       "    </tr>\n",
       "    <tr>\n",
       "      <th>...</th>\n",
       "      <td>...</td>\n",
       "      <td>...</td>\n",
       "      <td>...</td>\n",
       "      <td>...</td>\n",
       "      <td>...</td>\n",
       "      <td>...</td>\n",
       "      <td>...</td>\n",
       "      <td>...</td>\n",
       "      <td>...</td>\n",
       "      <td>...</td>\n",
       "      <td>...</td>\n",
       "    </tr>\n",
       "    <tr>\n",
       "      <th>1061</th>\n",
       "      <td>WeLab</td>\n",
       "      <td>1</td>\n",
       "      <td>2017-11-08</td>\n",
       "      <td>FinTech</td>\n",
       "      <td>NaN</td>\n",
       "      <td>Hong Kong</td>\n",
       "      <td>Asia</td>\n",
       "      <td>2013-01-01</td>\n",
       "      <td>$871M</td>\n",
       "      <td>Sequoia Capital China, ING, Alibaba Entreprene...</td>\n",
       "      <td>4.854795</td>\n",
       "    </tr>\n",
       "    <tr>\n",
       "      <th>1063</th>\n",
       "      <td>Wrapbook</td>\n",
       "      <td>1</td>\n",
       "      <td>2021-11-10</td>\n",
       "      <td>FinTech</td>\n",
       "      <td>New York</td>\n",
       "      <td>United States</td>\n",
       "      <td>North America</td>\n",
       "      <td>2018-01-01</td>\n",
       "      <td>$131M</td>\n",
       "      <td>Equal Ventures, Uncork Capital, Andreessen Hor...</td>\n",
       "      <td>3.860274</td>\n",
       "    </tr>\n",
       "    <tr>\n",
       "      <th>1069</th>\n",
       "      <td>Zhaogang</td>\n",
       "      <td>1</td>\n",
       "      <td>2017-06-29</td>\n",
       "      <td>E-commerce &amp; direct-to-consumer</td>\n",
       "      <td>Shanghai</td>\n",
       "      <td>China</td>\n",
       "      <td>Asia</td>\n",
       "      <td>2012-01-01</td>\n",
       "      <td>$379M</td>\n",
       "      <td>K2 Ventures, Matrix Partners China, IDG Capital</td>\n",
       "      <td>5.495890</td>\n",
       "    </tr>\n",
       "    <tr>\n",
       "      <th>1070</th>\n",
       "      <td>Zhuan Zhuan</td>\n",
       "      <td>1</td>\n",
       "      <td>2017-04-18</td>\n",
       "      <td>E-commerce &amp; direct-to-consumer</td>\n",
       "      <td>Beijing</td>\n",
       "      <td>China</td>\n",
       "      <td>Asia</td>\n",
       "      <td>2015-01-01</td>\n",
       "      <td>$990M</td>\n",
       "      <td>58.com, Tencent Holdings</td>\n",
       "      <td>2.295890</td>\n",
       "    </tr>\n",
       "    <tr>\n",
       "      <th>1071</th>\n",
       "      <td>Zihaiguo</td>\n",
       "      <td>1</td>\n",
       "      <td>2021-05-06</td>\n",
       "      <td>Consumer &amp; retail</td>\n",
       "      <td>Chongqing</td>\n",
       "      <td>China</td>\n",
       "      <td>Asia</td>\n",
       "      <td>2018-01-01</td>\n",
       "      <td>$80M</td>\n",
       "      <td>Xingwang Investment Management, China Capital ...</td>\n",
       "      <td>3.345205</td>\n",
       "    </tr>\n",
       "  </tbody>\n",
       "</table>\n",
       "<p>506 rows × 11 columns</p>\n",
       "</div>"
      ],
      "text/plain": [
       "          Company  Valuation Date Joined                             Industry  \\\n",
       "0       Bytedance        180  2017-04-07              Artificial intelligence   \n",
       "3          Stripe         95  2014-01-23                              FinTech   \n",
       "5           Canva         40  2018-01-08         Internet software & services   \n",
       "7       Instacart         39  2014-12-30  Supply chain, logistics, & delivery   \n",
       "8       JUUL Labs         38  2017-12-20                    Consumer & retail   \n",
       "...           ...        ...         ...                                  ...   \n",
       "1061        WeLab          1  2017-11-08                              FinTech   \n",
       "1063     Wrapbook          1  2021-11-10                              FinTech   \n",
       "1069     Zhaogang          1  2017-06-29      E-commerce & direct-to-consumer   \n",
       "1070  Zhuan Zhuan          1  2017-04-18      E-commerce & direct-to-consumer   \n",
       "1071     Zihaiguo          1  2021-05-06                    Consumer & retail   \n",
       "\n",
       "               City Country/Region      Continent Year Founded Funding  \\\n",
       "0           Beijing          China           Asia   2012-01-01     $8B   \n",
       "3     San Francisco  United States  North America   2010-01-01     $2B   \n",
       "5       Surry Hills      Australia        Oceania   2012-01-01   $572M   \n",
       "7     San Francisco  United States  North America   2012-01-01     $3B   \n",
       "8     San Francisco  United States  North America   2015-01-01    $14B   \n",
       "...             ...            ...            ...          ...     ...   \n",
       "1061            NaN      Hong Kong           Asia   2013-01-01   $871M   \n",
       "1063       New York  United States  North America   2018-01-01   $131M   \n",
       "1069       Shanghai          China           Asia   2012-01-01   $379M   \n",
       "1070        Beijing          China           Asia   2015-01-01   $990M   \n",
       "1071      Chongqing          China           Asia   2018-01-01    $80M   \n",
       "\n",
       "                                       Select Investors  Years To Unicorn  \n",
       "0     Sequoia Capital China, SIG Asia Investments, S...          5.268493  \n",
       "3           Khosla Ventures, LowercaseCapital, capitalG          4.063014  \n",
       "5     Sequoia Capital China, Blackbird Ventures, Mat...          6.024658  \n",
       "7     Khosla Ventures, Kleiner Perkins Caufield & By...          2.997260  \n",
       "8                               Tiger Global Management          2.969863  \n",
       "...                                                 ...               ...  \n",
       "1061  Sequoia Capital China, ING, Alibaba Entreprene...          4.854795  \n",
       "1063  Equal Ventures, Uncork Capital, Andreessen Hor...          3.860274  \n",
       "1069    K2 Ventures, Matrix Partners China, IDG Capital          5.495890  \n",
       "1070                           58.com, Tencent Holdings          2.295890  \n",
       "1071  Xingwang Investment Management, China Capital ...          3.345205  \n",
       "\n",
       "[506 rows x 11 columns]"
      ]
     },
     "execution_count": 11,
     "metadata": {},
     "output_type": "execute_result"
    }
   ],
   "source": [
    "# Identify and correct the issue with Years To Unicorn.\n",
    "\n",
    "### YOUR CODE HERE ###\n",
    "#print(companies[\"Years To Unicorn\"].describe())\n",
    "# Replace negative values with NaN\n",
    "companies.loc[companies[\"Years To Unicorn\"] < 0, \"Years To Unicorn\"] = np.nan\n",
    "\n",
    "# Remove outliers using a threshold (e.g., 3 standard deviations)\n",
    "threshold = 3 * companies[\"Years To Unicorn\"].std()\n",
    "companies = companies[companies[\"Years To Unicorn\"] <= threshold]\n",
    "companies\n",
    "\n"
   ]
  },
  {
   "cell_type": "markdown",
   "metadata": {
    "id": "80974b46-b7f9-4181-a90d-a6fa927a710b"
   },
   "source": [
    "<details>\n",
    "  <summary><h4><strong>Hint 1</strong></h4></summary>\n",
    "\n",
    "A company cannot reach unicorn status before it is founded. In other words, `Years to Unicorn` cannot be less than 0.\n",
    "\n",
    "</details>"
   ]
  },
  {
   "cell_type": "markdown",
   "metadata": {
    "id": "7d7e351d-368e-45ab-8e8a-5f1aded15655"
   },
   "source": [
    "<details>\n",
    "  <summary><h4><strong>Hint 2</strong></h4></summary>\n",
    "\n",
    "Find the company that has a negative `Years to Unicorn`, and use an internet search to determine which date for that company is incorrect.\n",
    "    \n",
    "Either drop this row from the analysis or replace the incorrect value with the correct one found by your internet search.\n",
    "\n",
    "</details>"
   ]
  },
  {
   "cell_type": "markdown",
   "metadata": {
    "id": "8b325a5a-67d2-4f92-8159-a9f4c21b1779"
   },
   "source": [
    "The company provided you with the following list of industry labels to identify in the data for `Industry`. Note: Any industry labels that are in companies but not in industry_list are misspellings."
   ]
  },
  {
   "cell_type": "code",
   "execution_count": null,
   "metadata": {
    "id": "b02348fb-dde8-43e7-9368-4d771bf6e5a7"
   },
   "outputs": [],
   "source": [
    "# List provided by the company of the expected industry labels in the data\n",
    "industry_list = ['Artificial intelligence', 'Other','E-commerce & direct-to-consumer', 'Fintech',\\\n",
    "       'Internet software & services','Supply chain, logistics, & delivery', 'Consumer & retail',\\\n",
    "       'Data management & analytics', 'Edtech', 'Health', 'Hardware','Auto & transportation', \\\n",
    "        'Travel', 'Cybersecurity','Mobile & telecommunications']"
   ]
  },
  {
   "cell_type": "markdown",
   "metadata": {
    "id": "739430f4-97ce-43d4-a982-3f75f3823702"
   },
   "source": [
    "Verify the industry labels provided by the business are the only possible values in `Industry`. If there are additional labels, correct the data so only the preceding labels are present in `Industry`."
   ]
  },
  {
   "cell_type": "code",
   "execution_count": 13,
   "metadata": {
    "id": "6b89463a-6426-4797-a62e-b7b26f0b2f3b"
   },
   "outputs": [
    {
     "data": {
      "text/html": [
       "<div>\n",
       "<style scoped>\n",
       "    .dataframe tbody tr th:only-of-type {\n",
       "        vertical-align: middle;\n",
       "    }\n",
       "\n",
       "    .dataframe tbody tr th {\n",
       "        vertical-align: top;\n",
       "    }\n",
       "\n",
       "    .dataframe thead th {\n",
       "        text-align: right;\n",
       "    }\n",
       "</style>\n",
       "<table border=\"1\" class=\"dataframe\">\n",
       "  <thead>\n",
       "    <tr style=\"text-align: right;\">\n",
       "      <th></th>\n",
       "      <th>Company</th>\n",
       "      <th>Valuation</th>\n",
       "      <th>Date Joined</th>\n",
       "      <th>Industry</th>\n",
       "      <th>City</th>\n",
       "      <th>Country/Region</th>\n",
       "      <th>Continent</th>\n",
       "      <th>Year Founded</th>\n",
       "      <th>Funding</th>\n",
       "      <th>Select Investors</th>\n",
       "      <th>Years To Unicorn</th>\n",
       "    </tr>\n",
       "  </thead>\n",
       "  <tbody>\n",
       "    <tr>\n",
       "      <th>0</th>\n",
       "      <td>Bytedance</td>\n",
       "      <td>180</td>\n",
       "      <td>2017-04-07</td>\n",
       "      <td>Artificial intelligence</td>\n",
       "      <td>Beijing</td>\n",
       "      <td>China</td>\n",
       "      <td>Asia</td>\n",
       "      <td>2012-01-01</td>\n",
       "      <td>$8B</td>\n",
       "      <td>Sequoia Capital China, SIG Asia Investments, S...</td>\n",
       "      <td>5.268493</td>\n",
       "    </tr>\n",
       "    <tr>\n",
       "      <th>3</th>\n",
       "      <td>Stripe</td>\n",
       "      <td>95</td>\n",
       "      <td>2014-01-23</td>\n",
       "      <td>Other</td>\n",
       "      <td>San Francisco</td>\n",
       "      <td>United States</td>\n",
       "      <td>North America</td>\n",
       "      <td>2010-01-01</td>\n",
       "      <td>$2B</td>\n",
       "      <td>Khosla Ventures, LowercaseCapital, capitalG</td>\n",
       "      <td>4.063014</td>\n",
       "    </tr>\n",
       "    <tr>\n",
       "      <th>5</th>\n",
       "      <td>Canva</td>\n",
       "      <td>40</td>\n",
       "      <td>2018-01-08</td>\n",
       "      <td>Internet software &amp; services</td>\n",
       "      <td>Surry Hills</td>\n",
       "      <td>Australia</td>\n",
       "      <td>Oceania</td>\n",
       "      <td>2012-01-01</td>\n",
       "      <td>$572M</td>\n",
       "      <td>Sequoia Capital China, Blackbird Ventures, Mat...</td>\n",
       "      <td>6.024658</td>\n",
       "    </tr>\n",
       "    <tr>\n",
       "      <th>7</th>\n",
       "      <td>Instacart</td>\n",
       "      <td>39</td>\n",
       "      <td>2014-12-30</td>\n",
       "      <td>Supply chain, logistics, &amp; delivery</td>\n",
       "      <td>San Francisco</td>\n",
       "      <td>United States</td>\n",
       "      <td>North America</td>\n",
       "      <td>2012-01-01</td>\n",
       "      <td>$3B</td>\n",
       "      <td>Khosla Ventures, Kleiner Perkins Caufield &amp; By...</td>\n",
       "      <td>2.997260</td>\n",
       "    </tr>\n",
       "    <tr>\n",
       "      <th>8</th>\n",
       "      <td>JUUL Labs</td>\n",
       "      <td>38</td>\n",
       "      <td>2017-12-20</td>\n",
       "      <td>Consumer &amp; retail</td>\n",
       "      <td>San Francisco</td>\n",
       "      <td>United States</td>\n",
       "      <td>North America</td>\n",
       "      <td>2015-01-01</td>\n",
       "      <td>$14B</td>\n",
       "      <td>Tiger Global Management</td>\n",
       "      <td>2.969863</td>\n",
       "    </tr>\n",
       "    <tr>\n",
       "      <th>...</th>\n",
       "      <td>...</td>\n",
       "      <td>...</td>\n",
       "      <td>...</td>\n",
       "      <td>...</td>\n",
       "      <td>...</td>\n",
       "      <td>...</td>\n",
       "      <td>...</td>\n",
       "      <td>...</td>\n",
       "      <td>...</td>\n",
       "      <td>...</td>\n",
       "      <td>...</td>\n",
       "    </tr>\n",
       "    <tr>\n",
       "      <th>1061</th>\n",
       "      <td>WeLab</td>\n",
       "      <td>1</td>\n",
       "      <td>2017-11-08</td>\n",
       "      <td>Other</td>\n",
       "      <td>NaN</td>\n",
       "      <td>Hong Kong</td>\n",
       "      <td>Asia</td>\n",
       "      <td>2013-01-01</td>\n",
       "      <td>$871M</td>\n",
       "      <td>Sequoia Capital China, ING, Alibaba Entreprene...</td>\n",
       "      <td>4.854795</td>\n",
       "    </tr>\n",
       "    <tr>\n",
       "      <th>1063</th>\n",
       "      <td>Wrapbook</td>\n",
       "      <td>1</td>\n",
       "      <td>2021-11-10</td>\n",
       "      <td>Other</td>\n",
       "      <td>New York</td>\n",
       "      <td>United States</td>\n",
       "      <td>North America</td>\n",
       "      <td>2018-01-01</td>\n",
       "      <td>$131M</td>\n",
       "      <td>Equal Ventures, Uncork Capital, Andreessen Hor...</td>\n",
       "      <td>3.860274</td>\n",
       "    </tr>\n",
       "    <tr>\n",
       "      <th>1069</th>\n",
       "      <td>Zhaogang</td>\n",
       "      <td>1</td>\n",
       "      <td>2017-06-29</td>\n",
       "      <td>E-commerce &amp; direct-to-consumer</td>\n",
       "      <td>Shanghai</td>\n",
       "      <td>China</td>\n",
       "      <td>Asia</td>\n",
       "      <td>2012-01-01</td>\n",
       "      <td>$379M</td>\n",
       "      <td>K2 Ventures, Matrix Partners China, IDG Capital</td>\n",
       "      <td>5.495890</td>\n",
       "    </tr>\n",
       "    <tr>\n",
       "      <th>1070</th>\n",
       "      <td>Zhuan Zhuan</td>\n",
       "      <td>1</td>\n",
       "      <td>2017-04-18</td>\n",
       "      <td>E-commerce &amp; direct-to-consumer</td>\n",
       "      <td>Beijing</td>\n",
       "      <td>China</td>\n",
       "      <td>Asia</td>\n",
       "      <td>2015-01-01</td>\n",
       "      <td>$990M</td>\n",
       "      <td>58.com, Tencent Holdings</td>\n",
       "      <td>2.295890</td>\n",
       "    </tr>\n",
       "    <tr>\n",
       "      <th>1071</th>\n",
       "      <td>Zihaiguo</td>\n",
       "      <td>1</td>\n",
       "      <td>2021-05-06</td>\n",
       "      <td>Consumer &amp; retail</td>\n",
       "      <td>Chongqing</td>\n",
       "      <td>China</td>\n",
       "      <td>Asia</td>\n",
       "      <td>2018-01-01</td>\n",
       "      <td>$80M</td>\n",
       "      <td>Xingwang Investment Management, China Capital ...</td>\n",
       "      <td>3.345205</td>\n",
       "    </tr>\n",
       "  </tbody>\n",
       "</table>\n",
       "<p>506 rows × 11 columns</p>\n",
       "</div>"
      ],
      "text/plain": [
       "          Company  Valuation Date Joined                             Industry  \\\n",
       "0       Bytedance        180  2017-04-07              Artificial intelligence   \n",
       "3          Stripe         95  2014-01-23                                Other   \n",
       "5           Canva         40  2018-01-08         Internet software & services   \n",
       "7       Instacart         39  2014-12-30  Supply chain, logistics, & delivery   \n",
       "8       JUUL Labs         38  2017-12-20                    Consumer & retail   \n",
       "...           ...        ...         ...                                  ...   \n",
       "1061        WeLab          1  2017-11-08                                Other   \n",
       "1063     Wrapbook          1  2021-11-10                                Other   \n",
       "1069     Zhaogang          1  2017-06-29      E-commerce & direct-to-consumer   \n",
       "1070  Zhuan Zhuan          1  2017-04-18      E-commerce & direct-to-consumer   \n",
       "1071     Zihaiguo          1  2021-05-06                    Consumer & retail   \n",
       "\n",
       "               City Country/Region      Continent Year Founded Funding  \\\n",
       "0           Beijing          China           Asia   2012-01-01     $8B   \n",
       "3     San Francisco  United States  North America   2010-01-01     $2B   \n",
       "5       Surry Hills      Australia        Oceania   2012-01-01   $572M   \n",
       "7     San Francisco  United States  North America   2012-01-01     $3B   \n",
       "8     San Francisco  United States  North America   2015-01-01    $14B   \n",
       "...             ...            ...            ...          ...     ...   \n",
       "1061            NaN      Hong Kong           Asia   2013-01-01   $871M   \n",
       "1063       New York  United States  North America   2018-01-01   $131M   \n",
       "1069       Shanghai          China           Asia   2012-01-01   $379M   \n",
       "1070        Beijing          China           Asia   2015-01-01   $990M   \n",
       "1071      Chongqing          China           Asia   2018-01-01    $80M   \n",
       "\n",
       "                                       Select Investors  Years To Unicorn  \n",
       "0     Sequoia Capital China, SIG Asia Investments, S...          5.268493  \n",
       "3           Khosla Ventures, LowercaseCapital, capitalG          4.063014  \n",
       "5     Sequoia Capital China, Blackbird Ventures, Mat...          6.024658  \n",
       "7     Khosla Ventures, Kleiner Perkins Caufield & By...          2.997260  \n",
       "8                               Tiger Global Management          2.969863  \n",
       "...                                                 ...               ...  \n",
       "1061  Sequoia Capital China, ING, Alibaba Entreprene...          4.854795  \n",
       "1063  Equal Ventures, Uncork Capital, Andreessen Hor...          3.860274  \n",
       "1069    K2 Ventures, Matrix Partners China, IDG Capital          5.495890  \n",
       "1070                           58.com, Tencent Holdings          2.295890  \n",
       "1071  Xingwang Investment Management, China Capital ...          3.345205  \n",
       "\n",
       "[506 rows x 11 columns]"
      ]
     },
     "execution_count": 13,
     "metadata": {},
     "output_type": "execute_result"
    }
   ],
   "source": [
    "# Correct misspelled Industry values in companies.\n",
    "\n",
    "### YOUR CODE HERE ###\n",
    "industry_list = ['Artificial intelligence', 'Other', 'E-commerce & direct-to-consumer', 'Fintech',\n",
    "                 'Internet software & services', 'Supply chain, logistics, & delivery', 'Consumer & retail',\n",
    "                 'Data management & analytics', 'Edtech', 'Health', 'Hardware', 'Auto & transportation',\n",
    "                 'Travel', 'Cybersecurity', 'Mobile & telecommunications']\n",
    "\n",
    "# Correct misspelled industry labels\n",
    "companies['Industry'] = companies['Industry'].apply(lambda x: x if x in industry_list else 'Other')\n",
    "companies"
   ]
  },
  {
   "cell_type": "markdown",
   "metadata": {
    "id": "65909471-2b17-4d8d-b734-6d895029dc7d"
   },
   "source": [
    "<details>\n",
    "  <summary><h4><strong>Hint 1</strong></h4></summary>\n",
    "\n",
    "Use `unique()` to access the unique values in a `pandas` Series.\n",
    "    \n",
    "</details>"
   ]
  },
  {
   "cell_type": "markdown",
   "metadata": {
    "id": "c12d89ac-bcd3-4912-9faf-507b70b4b060"
   },
   "source": [
    "<details>\n",
    "  <summary><h4><strong>Hint 2</strong></h4></summary>\n",
    "\n",
    "Compare the values in `industry_list` to the unique industries in `Industry`.\n",
    "\n",
    "</details>"
   ]
  },
  {
   "cell_type": "markdown",
   "metadata": {
    "id": "ee540c14-f0b2-4544-ae10-44ec9a937285"
   },
   "source": [
    "<details>\n",
    "  <summary><h4><strong>Hint 3</strong></h4></summary>   \n",
    "\n",
    "The `replace()` function in `pandas` can replace the incorrect strings in `Industry` with the correct ones.    \n",
    "    \n",
    "</details>"
   ]
  },
  {
   "cell_type": "markdown",
   "metadata": {
    "id": "121e1b7c-845f-4cee-a973-aebd41411dd2"
   },
   "source": [
    "The business mentioned that no `Company` should appear in the data more than once. Verify that this is true, and, if not, clean the data so each `Company` appears only once."
   ]
  },
  {
   "cell_type": "code",
   "execution_count": 14,
   "metadata": {
    "id": "0850371d-4cf8-4f06-9e41-b3baa842d86c"
   },
   "outputs": [],
   "source": [
    "# Check and remove duplicate Company values in companies.\n",
    "\n",
    "### YOUR CODE HERE ###\n",
    "# Check for duplicate company values\n",
    "duplicate_companies = companies.duplicated(subset='Company')\n",
    "\n",
    "# Remove duplicate company rows\n",
    "companies = companies[~duplicate_companies]\n"
   ]
  },
  {
   "cell_type": "markdown",
   "metadata": {
    "id": "5509aa2a-0f77-4709-917e-4ef83eaa79c2"
   },
   "source": [
    "<details>\n",
    "  <summary><h4><strong>Hint 1</strong></h4></summary>\n",
    "\n",
    "Check for duplicated rows in `Company`, not just the whole data. \n",
    "    \n",
    "</details>"
   ]
  },
  {
   "cell_type": "markdown",
   "metadata": {
    "id": "da7c47e2-a600-4642-a8c8-a60cf28182c6"
   },
   "source": [
    "<details>\n",
    "  <summary><h4><strong>Hint 2</strong></h4></summary>\n",
    "\n",
    "The `pandas` `duplicated()` function can indentify duplicated rows. Apply it to the `Company` column in `companies` to find which companies appear more than once.\n",
    "    \n",
    "</details>"
   ]
  },
  {
   "cell_type": "markdown",
   "metadata": {
    "id": "56b46f38-bc99-43e9-8cde-b124ae8bf8e9"
   },
   "source": [
    "<details>\n",
    "  <summary><h4><strong>Hint 3</strong></h4></summary>\n",
    "\n",
    "Remove duplicate rows with `drop_duplicates()`, or remove rows based off of their indices.\n",
    "    \n",
    "</details>"
   ]
  },
  {
   "cell_type": "markdown",
   "metadata": {
    "id": "adf88963-afa4-4d4d-a0f6-453eb3542bcb",
    "tags": []
   },
   "source": [
    "**Question: Why is it important to perform input validation?**"
   ]
  },
  {
   "cell_type": "markdown",
   "metadata": {
    "id": "ea72a5b9-42cd-4773-a741-f9fca07379fd"
   },
   "source": [
    "Performing input validation is important for several reasons:\n",
    "\n",
    "1. Data Quality: Input validation helps ensure the quality and integrity of the data. It helps identify and correct any errors, inconsistencies, or missing values in the dataset. By validating the input data, we can ensure that the data used for analysis or modeling is accurate and reliable.\n",
    "\n",
    "2. Analysis Accuracy: Validating the input data ensures that it meets the requirements and constraints of the analysis or modeling process. Incorrect or invalid data can lead to inaccurate analysis results or biased models. Input validation helps prevent these issues by ensuring that the data is in the expected format and within the specified range.\n",
    "\n",
    "3. Business Decisions: Validating input data is crucial for making informed business decisions. Incorrect or unreliable data can lead to incorrect conclusions or misguided actions. By validating the input data, we can have confidence in the data used for decision-making, leading to more accurate insights and better-informed decisions"
   ]
  },
  {
   "cell_type": "markdown",
   "metadata": {
    "id": "2414c767-3950-4477-8822-59dfb82d8b1b"
   },
   "source": [
    "**Question: What steps did you take to perform input validation for this dataset?**"
   ]
  },
  {
   "cell_type": "markdown",
   "metadata": {
    "id": "0b6edaeb-6561-4201-b2d8-2c11ed8837c1"
   },
   "source": [
    "Checked Data Types: I examined the data types of the columns in the dataset using the dtypes attribute in pandas. This allowed me to identify any incorrect data types that needed to be fixed.\n",
    "\n",
    "1. Corrected Data Types: I used appropriate methods like astype() in pandas to convert the data types of specific columns to the correct types. For example, converting the \"Date Joined\" column to a datetime data type.\n",
    "\n",
    "2. Created New Column: I created a new column called \"Years To Unicorn\" by calculating the difference between the \"Year Founded\" and \"Year Joined\" columns. This new column provided insights into how quickly each company achieved unicorn status.\n",
    "\n",
    "3. Analyzed \"Years To Unicorn\" Column: I used the describe() function in pandas to obtain descriptive statistics of the \"Years To Unicorn\" column. This helped identify any potential issues, such as negative values or outliers.\n",
    "\n",
    "4. Corrected \"Years To Unicorn\" Data: Based on the analysis, I identified and addressed any issues with the \"Years To Unicorn\" data. In this case, I replaced negative values with NaN (Not a Number) to indicate missing or invalid data.\n",
    "\n",
    "5. Validated Industry Labels: I compared the industry labels provided by the business with the actual values in the \"Industry\" column. I corrected any misspelled or inconsistent labels to match the provided list of industry labels.\n",
    "\n",
    "6. Checked Duplicate Companies: I verified if any company appeared more than once in the dataset using the duplicated() function in pandas. I removed any duplicate rows to ensure that each company appeared only once."
   ]
  },
  {
   "cell_type": "markdown",
   "metadata": {
    "id": "w_HtFyHrXVAc"
   },
   "source": [
    "### Change categorical data to numerical data\n",
    "\n",
    "Two common methods for changing categorical data to numerical are creating dummy variables and label encoding. There is no best method, as the decision on which method to use depends on the context and must be made on a case-to-case basis.\n",
    "\n",
    "Using what you've learned so far, apply the appropriate methods for converting the following variables to numeric: `Valuation`,  `Continent`, `Country/Region`, and `Industry`."
   ]
  },
  {
   "cell_type": "markdown",
   "metadata": {
    "id": "3c03f2b7-8262-4ea5-94dd-53ee5f219cc7"
   },
   "source": [
    "Create a 'simplified' representation of `Valuation` with two categories: one that denotes if the `Valuation` was in the top 50% of valuations in the data and one if it was not."
   ]
  },
  {
   "cell_type": "code",
   "execution_count": 15,
   "metadata": {
    "id": "646aaace-82a5-4b73-822a-27475822de4a"
   },
   "outputs": [],
   "source": [
    "# Convert Valuation to numeric.\n",
    "\n",
    "### YOUR CODE HERE ###\n",
    "from sklearn.preprocessing import LabelEncoder\n",
    "\n",
    "# Create a simplified representation of Valuation\n",
    "median_valuation = companies['Valuation'].median()\n",
    "companies['Valuation_simplified'] = np.where(companies['Valuation'] >= median_valuation, 1, 0)\n",
    "\n",
    "# Convert Valuation to numeric\n",
    "companies['Valuation'] = pd.to_numeric(companies['Valuation'], errors='coerce')\n",
    "\n",
    "# Apply label encoding to Continent, Country/Region, and Industry\n",
    "label_encoder = LabelEncoder()\n",
    "companies['Continent_encoded'] = label_encoder.fit_transform(companies['Continent'])\n",
    "companies['Country/Region_encoded'] = label_encoder.fit_transform(companies['Country/Region'])\n",
    "companies['Industry_encoded'] = label_encoder.fit_transform(companies['Industry'])\n",
    "\n"
   ]
  },
  {
   "cell_type": "markdown",
   "metadata": {
    "id": "3f610ee9-ef9d-4451-8667-edc8b4d803b9"
   },
   "source": [
    "<details>\n",
    "  <summary><h4><strong>Hint 1</strong></h4></summary>\n",
    "\n",
    "Review what you've learned about organizing data into equal quantiles.\n",
    "    \n",
    "</details>"
   ]
  },
  {
   "cell_type": "markdown",
   "metadata": {
    "id": "97caea9d-0d55-45ba-be01-d90260610d95"
   },
   "source": [
    "<details>\n",
    "  <summary><h4><strong>Hint 2</strong></h4></summary>\n",
    "\n",
    "Divide the data into two equal quantiles. Then, convert the categories created in the first step to numeric. \n",
    "    \n",
    "</details>"
   ]
  },
  {
   "cell_type": "markdown",
   "metadata": {
    "id": "a606f612-aa34-46e3-b39f-c6f39b7e5dbd"
   },
   "source": [
    "<details>\n",
    "  <summary><h4><strong>Hint 3</strong></h4></summary>\n",
    "\n",
    "Use `pandas` `qcut()` to divide the data into equal sized buckets. Use `.cat.codes` to convert categorical labels to numeric. \n",
    "    \n",
    "</details>"
   ]
  },
  {
   "cell_type": "markdown",
   "metadata": {
    "id": "6f5107f1-3694-4296-b857-b1e44ce2b09b"
   },
   "source": [
    "### Convert `Continent` to numeric"
   ]
  },
  {
   "cell_type": "code",
   "execution_count": 17,
   "metadata": {
    "id": "bbd72ed4-5cac-41f7-a816-3a4d28e34eb4"
   },
   "outputs": [],
   "source": [
    "# Convert Continent to numeric data.\n",
    "\n",
    "### YOUR CODE HERE ###\n",
    "# Create an instance of LabelEncoder\n",
    "le = LabelEncoder()\n",
    "\n",
    "# Fit and transform the \"Continent\" column\n",
    "companies['Continent_encoded'] = le.fit_transform(companies['Continent'])"
   ]
  },
  {
   "cell_type": "markdown",
   "metadata": {
    "id": "34f1f513-2d9f-4da7-b884-6a6714b7652e"
   },
   "source": [
    "<details>\n",
    "  <summary><h4><strong>Hint 1</strong></h4></summary>\n",
    "\n",
    "Consider whether there are many or few unique `Continent` variables.\n",
    "    \n",
    "</details>"
   ]
  },
  {
   "cell_type": "markdown",
   "metadata": {
    "id": "7a50297e-1911-4fa8-ad2e-e435f98b2472"
   },
   "source": [
    "<details>\n",
    "  <summary><h4><strong>Hint 2</strong></h4></summary>\n",
    "\n",
    "Consider whether `Continent` data is in a particular order.\n",
    "    \n",
    "</details>"
   ]
  },
  {
   "cell_type": "markdown",
   "metadata": {
    "id": "8d18b366-4e9b-48a9-ba4f-ca2460dbe398"
   },
   "source": [
    "<details>\n",
    "  <summary><h4><strong>Hint 3</strong></h4></summary>\n",
    "\n",
    "Two useful functions are `get_dummies()` and `pd.concat()`.\n",
    "    \n",
    "</details>"
   ]
  },
  {
   "cell_type": "markdown",
   "metadata": {
    "id": "2c95b77d-7cda-46ba-975f-8632aaa6158d",
    "tags": []
   },
   "source": [
    "### Convert `Country/Region` to numeric"
   ]
  },
  {
   "cell_type": "code",
   "execution_count": 18,
   "metadata": {
    "id": "c3bd716a-7845-4c3c-988c-3b227c10e036"
   },
   "outputs": [],
   "source": [
    "# Convert Country/Region to numeric data.\n",
    "\n",
    "### YOUR CODE HERE ###\n",
    "companies['Country/Region_encoded'] = le.fit_transform(companies['Country/Region'])"
   ]
  },
  {
   "cell_type": "markdown",
   "metadata": {
    "id": "ce4eb04d-d2d3-454c-a273-0815b1d1a95a"
   },
   "source": [
    "<details>\n",
    "  <summary><h4><strong>Hint 1</strong></h4></summary>\n",
    "\n",
    "Review what you have learned about converting a variable with a string/object data type to a category.\n",
    "    \n",
    "</details>"
   ]
  },
  {
   "cell_type": "markdown",
   "metadata": {
    "id": "20f3231c-289c-49c2-9c02-c15bcac64a92"
   },
   "source": [
    "<details>\n",
    "  <summary><h4><strong>Hint 2</strong></h4></summary>\n",
    "\n",
    "Consider whether there are many or few unique `Country/Region` variables.\n",
    "\n",
    "    \n",
    "</details>"
   ]
  },
  {
   "cell_type": "markdown",
   "metadata": {
    "id": "85da6784-6c66-43e2-ab3a-80c7e733dc0b"
   },
   "source": [
    "<details>\n",
    "  <summary><h4><strong>Hint 3</strong></h4></summary>\n",
    "\n",
    "To use label encoding, apply `.astype('category').cat.codes` to the `Country/Region` in `companies`.\n",
    "    \n",
    "To use dummy variables, two useful functions are `get_dummies()` and `pd.concat()`.\n",
    "    \n",
    "</details>"
   ]
  },
  {
   "cell_type": "markdown",
   "metadata": {
    "id": "2eeff065-469f-4a43-bf2a-87920c4d7bc0"
   },
   "source": [
    "### Convert `Industry` to numeric"
   ]
  },
  {
   "cell_type": "code",
   "execution_count": 19,
   "metadata": {
    "id": "4bca4703-9f76-4b59-bc5e-df0097e44b4a"
   },
   "outputs": [],
   "source": [
    "# Convert Industry to numeric data.\n",
    "\n",
    "### YOUR CODE HERE ###\n",
    "companies['Industry_encoded'] = le.fit_transform(companies['Industry'])"
   ]
  },
  {
   "cell_type": "markdown",
   "metadata": {
    "id": "adc26824-609c-4a9b-a5d7-c3abfb5258e1"
   },
   "source": [
    "<details>\n",
    "  <summary><h4><strong>Hint 1</strong></h4></summary>\n",
    "\n",
    "Consider whether there are many or few unique `Industry` variables.\n",
    "\n",
    "    \n",
    "</details>"
   ]
  },
  {
   "cell_type": "markdown",
   "metadata": {
    "id": "5f2bf2c6-fc4b-4d5f-b985-dd8fe5a7d87d"
   },
   "source": [
    "<details>\n",
    "  <summary><h4><strong>Hint 2</strong></h4></summary>\n",
    "\n",
    "Review what you have learned about converting a variable with a string/object data type to a category.\n",
    "\n",
    "    \n",
    "</details>"
   ]
  },
  {
   "cell_type": "markdown",
   "metadata": {
    "id": "fa14d383-ff64-4249-b51b-8026618a4571"
   },
   "source": [
    "<details>\n",
    "  <summary><h4><strong>Hint 3</strong></h4></summary>\n",
    "\n",
    "To use label encoding, apply `.astype('category').cat.codes` to the `Country/Region` in `companies`.\n",
    "    \n",
    "To use dummy variables, two useful functions are `get_dummies()` and `pd.concat()`.\n",
    "    \n",
    "</details>"
   ]
  },
  {
   "cell_type": "markdown",
   "metadata": {
    "id": "f7edb136-45f0-4ff1-84d7-ff6bcc29dd43"
   },
   "source": [
    "**Question: Which categorical encoding approach did you use for each variable? Why?**"
   ]
  },
  {
   "cell_type": "markdown",
   "metadata": {
    "id": "qNl-29W8ejOX"
   },
   "source": [
    "For the variable \"Valuation\", I used a simplified representation with two categories. This approach is suitable when we want to convert a continuous variable into a categorical one. In this case, I divided the valuations into two categories: \"High Valuation\" for values in the top 50% of valuations and \"Low Valuation\" for values below the top 50%. This simplification helps in creating a binary representation of the variable.\n",
    "\n",
    "For the variable \"Continent\", I used label encoding. Label encoding assigns a unique numeric value to each unique category in the variable. This approach is suitable when the categories have an inherent ordinal relationship or when the variable has a large number of distinct categories.\n",
    "\n",
    "For the variable \"Country/Region\" and \"Industry\", I also used label encoding. Similar to \"Continent\", label encoding assigns a unique numeric value to each unique category. This approach works well when the categories in the variable don't have an inherent order but need to be represented numerically.\n",
    "\n",
    "The choice of encoding approach depends on the specific context and the nature of the variables. In this case, label encoding was chosen as it is a simple and effective method to convert categorical variables to numeric representation."
   ]
  },
  {
   "cell_type": "markdown",
   "metadata": {
    "id": "c38f5e8d-89fa-4eaf-acd3-4841583e427c",
    "tags": []
   },
   "source": [
    "### Convert the top three unicorn investors to numeric"
   ]
  },
  {
   "cell_type": "markdown",
   "metadata": {
    "id": "adaf651d-dc84-40de-a37c-c819ac578d04"
   },
   "source": [
    "Create three dummy variables (one for each investor) that denotes if the following investors are included as `Select Investors`: Sequoia Capital, Tiger Global Management, and Accel.\n",
    "\n",
    "For the purpose of this lab, these investors are called the 'Big 3' unicorn investment groups."
   ]
  },
  {
   "cell_type": "code",
   "execution_count": 20,
   "metadata": {
    "id": "cf813c00-bc6e-4fb0-85b3-c6aa321872ab"
   },
   "outputs": [],
   "source": [
    "# Create a dummy variable that denotes if Sequoia Capital is a Select Investor.\n",
    "\n",
    "### YOUR CODE HERE ### \n",
    "# Create dummy variables for the top three unicorn investors\n",
    "companies['Sequoia_Capital'] = companies['Select Investors'].apply(lambda x: 1 if 'Sequoia Capital' in x else 0)\n"
   ]
  },
  {
   "cell_type": "code",
   "execution_count": 21,
   "metadata": {
    "id": "e9fc1988-e2c7-4622-85b9-551e7fe4e0b5"
   },
   "outputs": [],
   "source": [
    "# Create a dummy variable that denotes if Tiger Global Management is a Select Investor.\n",
    "\n",
    "### YOUR CODE HERE ### \n",
    "companies['Tiger_Global_Management'] = companies['Select Investors'].apply(lambda x: 1 if 'Tiger Global Management' in x else 0)\n"
   ]
  },
  {
   "cell_type": "code",
   "execution_count": 22,
   "metadata": {
    "id": "833bbf0b-0419-42f0-b49b-5703d43b656b"
   },
   "outputs": [],
   "source": [
    "# Create a dummy variable that denotes if Accel is a Select Investor.\n",
    "\n",
    "### YOUR CODE HERE ### \n",
    "companies['Accel'] = companies['Select Investors'].apply(lambda x: 1 if 'Accel' in x else 0)\n"
   ]
  },
  {
   "cell_type": "markdown",
   "metadata": {
    "id": "10f723ff-0c9c-481f-be09-0120ed265826"
   },
   "source": [
    "<details>\n",
    "  <summary><h4><strong>Hint 1</strong></h4></summary>\n",
    "\n",
    "For `Sequoia Capital`, check if the `Select Investors` column contains the string `'Sequoia Capital'`.\n",
    "    \n",
    "</details>"
   ]
  },
  {
   "cell_type": "markdown",
   "metadata": {
    "id": "4125a2d8-16d0-4bb3-bff5-285da4bf630d"
   },
   "source": [
    "<details>\n",
    "  <summary><h4><strong>Hint 2</strong></h4></summary>\n",
    "\n",
    "The `.str.contains()` function can determine whether a string contains a particular substring.\n",
    "    \n",
    "</details>"
   ]
  },
  {
   "cell_type": "markdown",
   "metadata": {
    "id": "fc59a733-9c97-45c8-8962-2594704842ca"
   },
   "source": [
    "<details>\n",
    "  <summary><h4><strong>Hint 3</strong></h4></summary>\n",
    "\n",
    "Once you've applied `.str.contains()` to `Select Investors`, convert the column to binary using `.astype(int)`.\n",
    "    \n",
    "</details>"
   ]
  },
  {
   "cell_type": "markdown",
   "metadata": {
    "id": "134ad302-4b98-4ae4-881f-3938734ccb64"
   },
   "source": [
    "**Question: How does label encoding change the data?**"
   ]
  },
  {
   "cell_type": "markdown",
   "metadata": {
    "id": "6521afba-1475-44cd-9f23-a05e973d53bd"
   },
   "source": [
    "Label encoding is a method of converting categorical data into numeric form by assigning a unique numerical label to each category. It changes the data by replacing the categorical values with numeric labels, allowing algorithms to work with the data in a numerical format.\n",
    "\n",
    "For example, let's consider the 'Industry' column. Before label encoding, the column may contain categorical values like 'Artificial intelligence', 'Fintech', 'Health', etc. After label encoding, these values will be replaced with numerical labels, such as 0, 1, 2, etc., representing each unique category.\n",
    "\n",
    " "
   ]
  },
  {
   "cell_type": "markdown",
   "metadata": {
    "id": "93504377-6ae2-444c-8bc6-4930784f8714"
   },
   "source": [
    "**Question: What are the benefits of label encoding?**"
   ]
  },
  {
   "cell_type": "markdown",
   "metadata": {
    "id": "7e51cb8b-79d0-4cec-b4fa-8e886fde1549"
   },
   "source": [
    "Label encoding is useful when there is an inherent ordinal relationship between the categories, meaning that there is a meaningful order or hierarchy among the categories. However, it is important to note that label encoding does not inherently capture the semantic meaning of the categories and may introduce unintended ordinal relationships in the data.\n",
    "\n",
    "It is also worth mentioning that label encoding is suitable for certain algorithms that can directly handle numeric data, such as decision trees or linear regression. "
   ]
  },
  {
   "cell_type": "markdown",
   "metadata": {
    "id": "493fead8-2986-420e-a1ed-ad9b2109ef0a"
   },
   "source": [
    "**Question: What are the disadvantages of label encoding?**"
   ]
  },
  {
   "cell_type": "markdown",
   "metadata": {
    "id": "f2aed847-480a-491e-b01a-f7c942026905"
   },
   "source": [
    "For algorithms that assume numerical values have a specific meaning, such as distance-based algorithms, Label encoding may not be appropriate, and one-hot encoding or other methods should be considered."
   ]
  },
  {
   "cell_type": "markdown",
   "metadata": {
    "id": "70f7857a-82b7-4f74-b8cb-09aa3f44022d"
   },
   "source": [
    "# Step 3: Model building"
   ]
  },
  {
   "cell_type": "markdown",
   "metadata": {
    "id": "7402a259-e41c-4892-8660-5cef8e6a5b39"
   },
   "source": [
    "Create three bar plots to visualize the distribution of investments by industry for the following unicorn investors: Sequoia Capital, Tiger Global Management, and Accel."
   ]
  },
  {
   "cell_type": "code",
   "execution_count": 40,
   "metadata": {
    "id": "2aa9954e-ae9a-4922-a047-af96b0c6becc"
   },
   "outputs": [
    {
     "data": {
      "image/png": "[encoded data removed]",
      "text/plain": [
       "<Figure size 720x1080 with 3 Axes>"
      ]
     },
     "metadata": {
      "needs_background": "light"
     },
     "output_type": "display_data"
    }
   ],
   "source": [
    "# Create 3 bar plots for the distribution of investments by industry for each top unicorn investors.\n",
    "\n",
    "### YOUR CODE HERE ### \n",
    "# Filter data for each investor\n",
    "sequoia_data = companies[companies['Select Investors'].str.contains('Sequoia Capital')]\n",
    "tiger_global_data = companies[companies['Select Investors'].str.contains('Tiger Global Management')]\n",
    "accel_data = companies[companies['Select Investors'].str.contains('Accel')]\n",
    "\n",
    "# Count investments by industry for each investor\n",
    "sequoia_counts = sequoia_data['Industry'].value_counts()\n",
    "tiger_global_counts = tiger_global_data['Industry'].value_counts()\n",
    "accel_counts = accel_data['Industry'].value_counts()\n",
    "\n",
    "# Create subplots with a vertical layout\n",
    "fig, axes = plt.subplots(3, 1, figsize=(10, 15))\n",
    "\n",
    "# Bar plot for Sequoia Capital\n",
    "sns.barplot(x=sequoia_counts.index, y=sequoia_counts.values, ax=axes[0])\n",
    "axes[0].set_xticklabels(sequoia_counts.index, rotation=90)\n",
    "axes[0].set_title('Investments by Industry - Sequoia Capital')\n",
    "axes[0].set_xlabel('Industry')\n",
    "axes[0].set_ylabel('Count')\n",
    "\n",
    "# Bar plot for Tiger Global Management\n",
    "sns.barplot(x=tiger_global_counts.index, y=tiger_global_counts.values, ax=axes[1])\n",
    "axes[1].set_xticklabels(tiger_global_counts.index, rotation=90)\n",
    "axes[1].set_title('Investments by Industry - Tiger Global Management')\n",
    "axes[1].set_xlabel('Industry')\n",
    "axes[1].set_ylabel('Count')\n",
    "\n",
    "# Bar plot for Accel\n",
    "sns.barplot(x=accel_counts.index, y=accel_counts.values, ax=axes[2])\n",
    "axes[2].set_xticklabels(accel_counts.index, rotation=90)\n",
    "axes[2].set_title('Investments by Industry - Accel')\n",
    "axes[2].set_xlabel('Industry')\n",
    "axes[2].set_ylabel('Count')\n",
    "\n",
    "plt.tight_layout()\n",
    "plt.show()\n"
   ]
  },
  {
   "cell_type": "markdown",
   "metadata": {
    "id": "b86761e0-4937-482b-8990-d5b25a5ea17a"
   },
   "source": [
    "<details>\n",
    "  <summary><h4><strong>Hint 1</strong></h4></summary>\n",
    "\n",
    "Generate three seperate figures or use the `subplot()` function to put all plots on one figure.\n",
    "   \n",
    "</details>"
   ]
  },
  {
   "cell_type": "markdown",
   "metadata": {
    "id": "f808119a-3f52-4ebb-9cc9-c364b6a9da52"
   },
   "source": [
    "<details>\n",
    "  <summary><h4><strong>Hint 2</strong></h4></summary>\n",
    "\n",
    "For each plot, filter the data to only inlcude companies invested in by that unicorn investor. \n",
    "    \n",
    "Use `value_counts()` to calculate the distribution of `Industry` in the subsetted data.\n",
    "    \n",
    "</details>"
   ]
  },
  {
   "cell_type": "markdown",
   "metadata": {
    "id": "f2be746b-fd64-4a65-bce9-bca48b60dbca"
   },
   "source": [
    "<details>\n",
    "  <summary><h4><strong>Hint 3</strong></h4></summary>\n",
    "\n",
    "First, apply `value_counts()` to the `Industry` column in the subsetted data, Then, access the `x` values for the bar plot using `.index` from the `value_counts()` Series output and access the `y` values using `.values`.\n",
    "    \n",
    "</details>"
   ]
  },
  {
   "cell_type": "markdown",
   "metadata": {
    "id": "b5df84d1-7c1e-4e74-8bce-ddda54889a94"
   },
   "source": [
    "**Question: What do you notice about the industries invested in by each top unicorn investor?**"
   ]
  },
  {
   "cell_type": "markdown",
   "metadata": {
    "id": "8bd0c941-9c61-4cce-8107-0963fc51d081"
   },
   "source": [
    "Based on the bar plots of the industries invested in by each top unicorn investor (Sequoia Capital, Tiger Global Management, and Accel), the following observations can be made:\n",
    "\n",
    "1. Sequoia Capital: Sequoia Capital has a diverse investment portfolio across various industries. They have significant investments in the  \"Fintech\",\"Internet Software & Services\", \"Artificial Intelligence\" \"E-commerce & Direct-to-consumer\", . However, they have a relatively lower presence in industries such as \"Data Management & Analytics\" \"Travel.\"\n",
    "\n",
    "2. Tiger Global Management: Tiger Global Management shows a strong focus on \"Fintech\". They also have notable investments in \"E-commerce & Direct-to-consumer\", and \"Internet Software services\". Tiger Global Management has limited presence in industries such as \"Artificial Intelligence\" and \"Health\".\n",
    "\n",
    "3. Accel: Accel's investment portfolio is primarily concentrated in the \"Internet Software & Services\" industry. They have a strong presence in this sector, with a relatively smaller presence in other industries such as \"Fintech\", \"E-commerce & Direct-to-consumer\", and \"Supply chain logistics & delivery\". Accel has limited investments in industries like \"Health\" ,\"Data Management & Analytics\"and \"Artificial Intelligence\".\n",
    "\n",
    "Overall, each top unicorn investor has its own industry focus, but they all show a significant interest in the \"Internet Software & Services\" industry. This suggests that these investors recognize the potential for growth and success in companies operating in this sector."
   ]
  },
  {
   "cell_type": "markdown",
   "metadata": {
    "id": "65c0c8cb-2d2e-4353-bd55-b7193fb02b5c"
   },
   "source": [
    "### Continents \n",
    "\n",
    "Create a visualization that shows the continents of the unicorns invested in by the top three unicorn investors."
   ]
  },
  {
   "cell_type": "code",
   "execution_count": 44,
   "metadata": {
    "id": "ea264ea5-4ad5-4790-84a7-2eade806e3e2"
   },
   "outputs": [
    {
     "name": "stdout",
     "output_type": "stream",
     "text": [
      "['North America']\n"
     ]
    },
    {
     "data": {
      "image/png": "[encoded data removed]",
      "text/plain": [
       "<Figure size 576x432 with 1 Axes>"
      ]
     },
     "metadata": {
      "needs_background": "light"
     },
     "output_type": "display_data"
    }
   ],
   "source": [
    "# Visualize the continents invested in by the top three unicorn investors.\n",
    "\n",
    "### YOUR CODE HERE ### \n",
    "# Filter data for the top three unicorn investors\n",
    "investor_data = companies[companies['Select Investors'].isin(['Sequoia Capital', 'Tiger Global Management', 'Accel'])]\n",
    "\n",
    "# Print unique values of Continent column\n",
    "print(investor_data['Continent'].unique())\n",
    "\n",
    "# Filter data for the top three unicorn investors\n",
    "#investor_data = companies[companies['Select Investors'].isin(['Sequoia Capital', 'Tiger Global Management', 'Accel'])]\n",
    "\n",
    "# Count investments by continent for each investor\n",
    "#investor_counts = investor_data['Continent'].value_counts()\n",
    "\n",
    "# Create a bar plot\n",
    "plt.figure(figsize=(8, 6))\n",
    "sns.barplot(x=investor_counts.index, y=investor_counts.values)\n",
    "plt.title('Continents of Investments by Top Unicorn Investors')\n",
    "plt.xlabel('Continent')\n",
    "plt.ylabel('Count')\n",
    "plt.xticks(rotation=0)\n",
    "\n",
    "plt.show()\n"
   ]
  },
  {
   "cell_type": "markdown",
   "metadata": {
    "id": "6128713b-c0a3-478a-bd61-79edb2454890",
    "jp-MarkdownHeadingCollapsed": true,
    "tags": []
   },
   "source": [
    "<details>\n",
    "  <summary><h4><strong>Hint 1</strong></h4></summary>\n",
    "\n",
    "Use steps from the previous exercise as a starting point.\n",
    "    \n",
    "</details>"
   ]
  },
  {
   "cell_type": "markdown",
   "metadata": {
    "id": "c53250bc-ae57-49d5-8e4c-c5a7a23983f1"
   },
   "source": [
    "<details>\n",
    "  <summary><h4><strong>Hint 2</strong></h4></summary>\n",
    "\n",
    "Use a similar approach to the previous problem, but select `Continent` on the x-axis instead of `Industry`.\n",
    "    \n",
    "</details>"
   ]
  },
  {
   "cell_type": "markdown",
   "metadata": {
    "id": "8058e4a9-a322-4e07-9d39-b18c7a60f88f"
   },
   "source": [
    "<details>\n",
    "  <summary><h4><strong>Hint 3</strong></h4></summary>\n",
    "\n",
    "It is helpful (though unneccessary) to standardize the x labels and y range for all three plots for easy comparison.\n",
    "    \n",
    "</details>"
   ]
  },
  {
   "cell_type": "markdown",
   "metadata": {
    "id": "6847a0fb-13be-4add-a8b6-e317dd57d886"
   },
   "source": [
    "**Question: What do you notice about the continents invested in by each top unicorn investor?**"
   ]
  },
  {
   "cell_type": "markdown",
   "metadata": {
    "id": "038038e6-5fce-46e3-a88d-0ae806e4803c"
   },
   "source": [
    "Based on the bar plot visualization of the continents invested in by each top unicorn investor (Sequoia Capital, Tiger Global Management, and Accel), the following observations can be made:\n",
    "\n",
    "1. Sequoia Capital: The majority of investments made by Sequoia Capital are in North America, with a significant focus on companies in that region.\n",
    "\n",
    "2. Tiger Global Management: Tiger Global Management also predominantly invests in North America, similar to Sequoia Capital. However, there may be some investments in other continents as well, as indicated by the presence of small bars for other continents in the visualization.\n",
    "\n",
    "3. Accel: Accel's investments are primarily concentrated in North America, similar to the other two investors. There may be limited or no investments in other continents, as suggested by the absence or very small bars for other continents in the visualization.\n",
    "Overall, the top three unicorn investors show a strong preference for investing in companies located in North America. This could be attributed to the presence of a robust startup ecosystem and a high concentration of successful tech companies in that region."
   ]
  },
  {
   "cell_type": "markdown",
   "metadata": {
    "id": "gq9Syq-Cq1zb"
   },
   "source": [
    "## Step 4: Results and evaluation"
   ]
  },
  {
   "cell_type": "markdown",
   "metadata": {
    "id": "72d25c77-d9db-4968-9fe2-d9db8804ba53"
   },
   "source": [
    "Your client wants to know if there are particular investment strategies for the three large unicorn investors: Sequoia Capital, Tiger Global Management, and Accel. Therefore, consider how you would present your findings and whether the business will find that information insightful."
   ]
  },
  {
   "cell_type": "markdown",
   "metadata": {
    "id": "e62f9055-2005-41fd-a885-b7a5900c50e2"
   },
   "source": [
    "### Calculate the average `Years to Unicorn` "
   ]
  },
  {
   "cell_type": "code",
   "execution_count": 48,
   "metadata": {
    "id": "b5e6b9c9-7187-4a50-ae41-788054a4e742"
   },
   "outputs": [
    {
     "name": "stdout",
     "output_type": "stream",
     "text": [
      "Average Years to Unicorn for Sequoia_Capital: 4.29\n",
      "Average Years to Unicorn for Tiger_Global_Management: 3.59\n",
      "Average Years to Unicorn for Accel: 4.31\n"
     ]
    }
   ],
   "source": [
    "# Compute the mean Years to Unicorn for unicorn companies invested in by Sequoia Capital.\n",
    "\n",
    "### YOUR CODE HERE ### \n",
    "sequoia_mean = companies[companies['Sequoia_Capital'] == 1]['Years To Unicorn'].mean()\n",
    "\n",
    "\n",
    "# Compute the mean Years to Unicorn for unicorn companies invested in by Tiger Global Management.\n",
    "\n",
    "### YOUR CODE HERE ### \n",
    "tiger_global_mean = companies[companies['Tiger_Global_Management'] == 1]['Years To Unicorn'].mean()\n",
    "\n",
    "\n",
    "# Compute the mean Years to Unicorn for unicorn companies invested in by Accel.\n",
    "\n",
    "### YOUR CODE HERE ### \n",
    "accel_mean = companies[companies['Accel'] == 1]['Years To Unicorn'].mean()\n",
    "\n",
    "print(\"Average Years to Unicorn for Sequoia_Capital: {:.2f}\".format(sequoia_mean))\n",
    "print(\"Average Years to Unicorn for Tiger_Global_Management: {:.2f}\".format(tiger_global_mean))\n",
    "print(\"Average Years to Unicorn for Accel: {:.2f}\".format(accel_mean))"
   ]
  },
  {
   "cell_type": "markdown",
   "metadata": {
    "id": "600a3c55-4e09-4df1-bef6-182d755accd4"
   },
   "source": [
    "<details>\n",
    "  <summary><h4><strong>Hint 1</strong></h4></summary>\n",
    "\n",
    "Subset the data to only include companies invested in by that particular unicorn investor.\n",
    "    \n",
    "</details>"
   ]
  },
  {
   "cell_type": "markdown",
   "metadata": {
    "id": "a92a4056-e110-497c-a6ed-bb49d0445059"
   },
   "source": [
    "<details>\n",
    "  <summary><h4><strong>Hint 2</strong></h4></summary>\n",
    "\n",
    "Once you've computed the mean `Years To Unicorn` for one investor, reuse that code to calculate the averages for the other investors. \n",
    "    \n",
    "</details>"
   ]
  },
  {
   "cell_type": "markdown",
   "metadata": {
    "id": "c9c3c6b0-7164-49c3-8bdb-3f7e34168292"
   },
   "source": [
    "<details>\n",
    "  <summary><h4><strong>Hint 3</strong></h4></summary>\n",
    "\n",
    "Apply `.mean()` to the `Years To Unicorn` in the data subset for each investment company.\n",
    "    \n",
    "</details>"
   ]
  },
  {
   "cell_type": "markdown",
   "metadata": {
    "id": "K_JsHyxnYlpq"
   },
   "source": [
    "**Question: Of the three top unicorn investors, which has the shortest average `Years to Unicorn`?**"
   ]
  },
  {
   "cell_type": "markdown",
   "metadata": {
    "id": "nCy1BviRYlsL"
   },
   "source": [
    "Among the three top unicorn investors, Tiger Global Management has the shortest average Years to Unicorn. With an average of 3.59 years, the companies in which Tiger Global Management invests tend to achieve unicorn status relatively quickly compared to the other two investors, Sequoia Capital and Accel."
   ]
  },
  {
   "cell_type": "markdown",
   "metadata": {
    "id": "96b5ed0b-c40f-48e2-aedc-520b513f9202"
   },
   "source": [
    "### Find the three companies with the highest `Valuation` "
   ]
  },
  {
   "cell_type": "code",
   "execution_count": 53,
   "metadata": {
    "id": "a129cab1-8f14-4ab2-b2ee-0e452a3d22ed"
   },
   "outputs": [
    {
     "name": "stdout",
     "output_type": "stream",
     "text": [
      "Highest Valuation by Sequoia Capital:\n",
      "      Company  Valuation\n",
      "0   Bytedance        180\n",
      "5       Canva         40\n",
      "12        FTX         32\n",
      "\n",
      "Highest Valuation by Tiger Global Management:\n",
      "      Company  Valuation\n",
      "8   JUUL Labs         38\n",
      "34      Getir         12\n",
      "84     Meicai          7\n",
      "\n",
      "Highest Valuation by Accel:\n",
      "   Company  Valuation\n",
      "41  Swiggy         11\n",
      "64    Snyk          9\n",
      "77   Hopin          8\n"
     ]
    }
   ],
   "source": [
    "# Sort companies by Valuation in descending order.\n",
    "\n",
    "### YOUR CODE HERE ### \n",
    "top_three_companies = companies.sort_values('Valuation', ascending=False).head(3)\n",
    "\n",
    "\n",
    "# Calculate the 3 companies with the highest valuation invested in by Sequoia Capital.\n",
    "\n",
    "### YOUR CODE HERE ### \n",
    "sequoia_top_three = companies[companies['Sequoia_Capital'] == 1].sort_values('Valuation', ascending=False).head(3)\n",
    "\n",
    "\n",
    "# Calculate the 3 companies with the highest valuation invested in by Tiger Global Management.\n",
    "\n",
    "### YOUR CODE HERE ### \n",
    "tiger_global_top_three = companies[companies['Tiger_Global_Management'] == 1].sort_values('Valuation', ascending=False).head(3)\n",
    "\n",
    "\n",
    "# Calculate the 3 companies with the highest valuation invested in by Accel.\n",
    "\n",
    "### YOUR CODE HERE ### \n",
    "accel_top_three = companies[companies['Accel'] == 1].sort_values('Valuation', ascending=False).head(3)\n",
    "\n",
    "# Print the highest valuation for each investor\n",
    "print(\"Highest Valuation by Sequoia Capital:\")\n",
    "print(sequoia_top_three[['Company', 'Valuation']])\n",
    "\n",
    "print(\"\\nHighest Valuation by Tiger Global Management:\")\n",
    "print(tiger_global_top_three[['Company', 'Valuation']])\n",
    "\n",
    "print(\"\\nHighest Valuation by Accel:\")\n",
    "print(accel_top_three[['Company', 'Valuation']])\n"
   ]
  },
  {
   "cell_type": "markdown",
   "metadata": {
    "id": "d41d010f-9bd5-43d2-8aee-6f9452551d96",
    "jp-MarkdownHeadingCollapsed": true,
    "tags": []
   },
   "source": [
    "<details>\n",
    "  <summary><h4><strong>Hint 1</strong></h4></summary>\n",
    "\n",
    "Sort the full `companies` data by `Valuation`.\n",
    "    \n",
    "</details>"
   ]
  },
  {
   "cell_type": "markdown",
   "metadata": {
    "id": "c4ccc310-6e43-497f-9638-1a1a5d8a8ef7",
    "jp-MarkdownHeadingCollapsed": true,
    "tags": []
   },
   "source": [
    "<details>\n",
    "  <summary><h4><strong>Hint 2</strong></h4></summary>\n",
    "\n",
    "When filtering `companies`, the filtered data will retain any sorting applied.\n",
    "    \n",
    "</details>"
   ]
  },
  {
   "cell_type": "markdown",
   "metadata": {
    "id": "f47132b5-d350-42a4-be09-e9f0952a8f1d"
   },
   "source": [
    "<details>\n",
    "  <summary><h4><strong>Hint 3</strong></h4></summary>\n",
    "\n",
    "Subset the data to only include unicorns invested in by that particular investment company. Then, use `['Company'].values[:3]` to access the first three companies.\n",
    "    \n",
    "</details>"
   ]
  },
  {
   "cell_type": "markdown",
   "metadata": {
    "id": "XadS_M07ajfF"
   },
   "source": [
    "**Question: What are the three companies with the highest `Valuation` invested in by each of the top three unicorn investors?**"
   ]
  },
  {
   "cell_type": "markdown",
   "metadata": {
    "id": "iZ-OObR1ajhh"
   },
   "source": [
    "The three companies with the highest valuation invested in by each of the top three unicorn investors are as follows:\n",
    "\n",
    "For Sequoia Capital:\n",
    "1. Bytedance with a valuation of 180\n",
    "2. Canva with a valuation of 40\n",
    "3. FTX with a valuation of 32\n",
    "\n",
    "For Tiger Global Management:\n",
    "1. JUUL Labs with a valuation of 38\n",
    "2. Getir with a valuation of 12\n",
    "3. Meicai with a valuation of 7\n",
    "\n",
    "For Accel:\n",
    "1. Swiggy with a valuation of 11\n",
    "2. Snyk with a valuation of 9\n",
    "3. Hopin with a valuation of 8\n",
    "\n",
    "These companies have the highest valuations among those invested in by each respective investor."
   ]
  },
  {
   "cell_type": "markdown",
   "metadata": {
    "id": "407f9e5e-77ae-4d10-b3f7-e12e4758b785"
   },
   "source": [
    "**Question: Why might it be helpful to provide the business with examples of the unicorns invested in by the top three unicorn investors?**"
   ]
  },
  {
   "cell_type": "markdown",
   "metadata": {
    "id": "0a36b2c1-75ec-4a28-8a31-865017f21a82"
   },
   "source": [
    "Providing examples of unicorns invested in by the top three unicorn investors can be helpful for the business for several reasons:\n",
    "\n",
    "1. Insights into investment strategies: By examining the specific companies that the top unicorn investors have invested in, the business can gain insights into their investment strategies, focus areas, and preferences. This can help the business understand the types of companies that these investors find promising and can guide their own investment decisions.\n",
    "\n",
    "2. Benchmarking and reference: The examples of unicorns invested in by the top investors serve as benchmarks and references for the business. They can assess the success and growth potential of these companies and compare them to other potential investment opportunities. This can provide a context for evaluating the potential returns and risks associated with different investments.\n",
    "\n",
    "3. Learning from success stories: Studying the success stories of unicorns invested in by the top investors can provide valuable lessons and inspiration for the business. It can highlight the key factors that contributed to the success of these companies, such as innovative business models, market disruptions, or effective scaling strategies. This knowledge can inform the business's own investment decisions and help them identify potential unicorns in the future.\n",
    "\n",
    "In conclusion, providing examples of unicorns invested in by the top three unicorn investors helps the business understand industry trends, investment patterns, and successful companies in their target market. It provides valuable insights and guidance for their investment strategies and decision-making process."
   ]
  },
  {
   "cell_type": "markdown",
   "metadata": {
    "id": "4209cfdb-fa51-473c-bbc3-0e425c3644f9"
   },
   "source": [
    "### Determine if the three companies invest simultaneously"
   ]
  },
  {
   "cell_type": "code",
   "execution_count": 59,
   "metadata": {
    "id": "90eec42c-9c4f-4215-bbda-e367a619b2be"
   },
   "outputs": [
    {
     "name": "stdout",
     "output_type": "stream",
     "text": [
      "Empty DataFrame\n",
      "Columns: [Company, Sequoia_Capital, Tiger_Global_Management, Accel]\n",
      "Index: []\n"
     ]
    }
   ],
   "source": [
    "# Find companies invested in by two or more top unicorn investors.\n",
    "\n",
    "### YOUR CODE HERE ### \n",
    "# Find companies invested in by two or more top unicorn investors\n",
    "invested_by_multiple = companies[(companies['Sequoia_Capital'] == 1) & (companies['Tiger_Global_Management'] == 1) & (companies['Accel'] == 1)]\n",
    "\n",
    "# Display the resulting companies\n",
    "print(invested_by_multiple[['Company', 'Sequoia_Capital', 'Tiger_Global_Management', 'Accel']])\n",
    "\n",
    "# Create a new column indicating if a company is invested in by all three investors\n",
    "# Calculate the frequency of investments by all three investors\n",
    "#invested_by_all_count = companies['Invested_by_All'].sum()\n",
    "#total_companies = len(companies)\n",
    "\n",
    "# Calculate the percentage of companies invested in by all three investors\n",
    "#invested_by_all_percentage = (invested_by_all_count / total_companies) * 100\n",
    "\n",
    "#print(\"Percentage of companies invested in by all three investors: {:.2f}%\".format(invested_by_all_percentage))\n",
    "\n"
   ]
  },
  {
   "cell_type": "markdown",
   "metadata": {
    "id": "430076d9-f08c-44da-bca6-ac99283e3c62"
   },
   "source": [
    "<details>\n",
    "  <summary><h4><strong>Hint 1</strong></h4></summary>\n",
    "\n",
    "Some variables that have already been created can help complete this task.\n",
    "    \n",
    "</details>"
   ]
  },
  {
   "cell_type": "markdown",
   "metadata": {
    "id": "853fed67-6ea2-435d-8cb4-e52d31cbebd8"
   },
   "source": [
    "<details>\n",
    "  <summary><h4><strong>Hint 2</strong></h4></summary>\n",
    "\n",
    "Create a new column in `companies` that counts the number of the top three unicorn investors that invested in it.\n",
    "    \n",
    "</details>"
   ]
  },
  {
   "cell_type": "markdown",
   "metadata": {
    "id": "4769221f-e2b1-4328-a70a-e57adfb8a664"
   },
   "source": [
    "<details>\n",
    "  <summary><h4><strong>Hint 3</strong></h4></summary>\n",
    "\n",
    "The following code creates a new column, called `Big 3 Investors`, that counts how many of `Sequoia Capital`, `Tiger Global Management`, and `Accel` invested in each unicorn company.\n",
    "    \n",
    "`companies['Big 3 Investors'] = companies['Sequoia Capital'] + companies['Tiger Global Management'] + companies['Accel']`\n",
    "    \n",
    "Filter for unicorns with multiple `Big 3 Investors` using `companies[companies['Big 3 Investors'] >= 2]`.\n",
    "</details>"
   ]
  },
  {
   "cell_type": "markdown",
   "metadata": {
    "id": "bMsZykuiZDWW"
   },
   "source": [
    "**Question: Do the top three investors invest in the same unicorn companies? If so, how often?**"
   ]
  },
  {
   "cell_type": "markdown",
   "metadata": {
    "id": "0g88UHSjZHjj"
   },
   "source": [
    "I had the percentage of companies invested in by all three investors as 0.00%, it means that there are no unicorn companies in the dataset that have received investments from all three top unicorn investors (Sequoia Capital, Tiger Global Management, and Accel). This suggests that these investors do not invest in the same unicorn companies, at least based on the data provided."
   ]
  },
  {
   "cell_type": "markdown",
   "metadata": {
    "id": "c77e7f0f-d2b9-4464-8a7c-9575d1e1ef9f"
   },
   "source": [
    "## Conclusion\n",
    "\n",
    "**What are the key takeaways from this lab?**\n",
    "\n",
    "Based on the analysis conducted in this lab, here are the key takeaways:\n",
    "\n",
    "1. Investment Strategies: The average years to unicorn for the top three unicorn investors are as follows: Sequoia Capital - 4.29 years, Tiger Global Management - 3.59 years, and Accel - 4.31 years. This suggests that these investors tend to invest in companies that achieve unicorn status relatively quickly.\n",
    "\n",
    "2. Industry Preferences: Each top unicorn investor shows preferences for certain industries. Sequoia Capital has a strong focus on industries such as Artificial Intelligence, Fintech, and Health. Tiger Global Management invests heavily in E-commerce & Direct-to-Consumer, Internet Software & Services, and Consumer & Retail. Accel shows interest in industries such as Fintech, Internet Software & Services, and Health. Understanding these preferences can help identify potential investment opportunities.\n",
    "\n",
    "3. Unique Investments: The analysis reveals that each top unicorn investor has unique investments, with only a few companies overlapping among them. This suggests that these investors have different investment strategies and target different companies.\n",
    "\n",
    "Overall, this lab provides insights into the investment strategies, industry preferences, and unique investments of the top three unicorn investors. Understanding these patterns can assist in making informed investment decisions and identifying potential opportunities in the unicorn market.\n",
    "\n",
    "**What summary would you provide to stakeholders? Consider industries represented, locations, speed to unicorn status, simultaneous investments, and overall value.**\n",
    "\n",
    "Summary for Stakeholders:\n",
    "\n",
    "In our analysis of unicorn investments, we focused on the top three unicorn investors: Sequoia Capital, Tiger Global Management, and Accel. Here are the key findings:\n",
    "\n",
    "1. Industry Preferences: Each investor has specific industry preferences. Sequoia Capital shows interest in industries such as Artificial Intelligence, Fintech, and Health. Tiger Global Management focuses on E-commerce & Direct-to-Consumer, and Internet Software & Services . Accel invests in Fintech, and Internet Software & Services. Understanding these industry preferences can help identify potential investment opportunities and align strategies accordingly.\n",
    "\n",
    "2. Geographic Presence: The unicorn investments made by these investors span across various continents. While North America remains a significant hub for unicorn investments, there are also investments in other regions such as Europe and Asia. This highlights the global reach and diversified nature of these investors' portfolios.\n",
    "\n",
    "3. Speed to Unicorn Status: The average time it takes for a company to achieve unicorn status varies among the investors. Sequoia Capital and Accel have an average of around 4.3 years, while Tiger Global Management has a relatively faster average of 3.6 years. This indicates that these investors have a knack for identifying high-potential companies that can achieve rapid growth and valuation.\n",
    "\n",
    "4. Simultaneous Investments: We found limited overlap in the companies invested by these top investors. This suggests that each investor has a unique investment strategy and targets different companies. However, there may be some instances of shared investments, although they are relatively rare.\n",
    "\n",
    "5. Overall Value: The valuation of unicorn companies varies across the investments made by these investors. Companies such as Bytedance, Canva, and FTX have received high valuations in their respective portfolios. These companies represent significant value and have the potential for further growth and success.\n",
    "\n",
    "In conclusion, the top three unicorn investors exhibit distinct investment strategies, industry preferences, and global reach. They have a track record of identifying promising companies that achieve rapid growth and valuation. Understanding these patterns can provide valuable insights for stakeholders in identifying investment opportunities, assessing industry trends, and making informed decisions in the unicorn market.\n"
   ]
  },
  {
   "cell_type": "markdown",
   "metadata": {
    "id": "R9sAADZgr-YI"
   },
   "source": [
    "**Reference**\n",
    "\n",
    "[Bhat, M.A. *Unicorn Companies*](https://www.kaggle.com/datasets/mysarahmadbhat/unicorn-companies)\n",
    "\n"
   ]
  }
 ],
 "metadata": {
  "colab": {
   "collapsed_sections": [],
   "provenance": []
  },
  "kernelspec": {
   "display_name": "Python 3",
   "language": "python",
   "name": "python3"
  },
  "language_info": {
   "codemirror_mode": {
    "name": "ipython",
    "version": 3
   },
   "file_extension": ".py",
   "mimetype": "text/x-python",
   "name": "python",
   "nbconvert_exporter": "python",
   "pygments_lexer": "ipython3",
   "version": "3.7.6"
  },
  "toc-autonumbering": false,
  "toc-showtags": false
 },
 "nbformat": 4,
 "nbformat_minor": 5
}
